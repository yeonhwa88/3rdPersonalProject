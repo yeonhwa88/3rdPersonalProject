{
 "cells": [
  {
   "cell_type": "code",
   "execution_count": 1,
   "id": "2ac8aade",
   "metadata": {},
   "outputs": [
    {
     "name": "stdout",
     "output_type": "stream",
     "text": [
      "API_KEY 로드 성공\n"
     ]
    }
   ],
   "source": [
    "import os\n",
    "from dotenv import load_dotenv\n",
    "import google.generativeai as genai\n",
    "\n",
    "# .env 파일에서 'geegle_api_key' 가져오기\n",
    "load_dotenv()\n",
    "API_KEY = os.getenv(\"GOOGLE_API_KEY\")\n",
    "\n",
    "# gemini api설정\n",
    "if API_KEY :\n",
    "    genai.configure(api_key=API_KEY)\n",
    "    print('API_KEY 로드 성공')\n",
    "else :\n",
    "    print('API_KEY 로드 실패')\n",
    "\n",
    "# 사용할 Gemini ai 모델 설정 (효율적인 최신 모델)\n",
    "AI_MODEL_NAME = 'models/gemini-1.5-flash-latest'"
   ]
  },
  {
   "cell_type": "code",
   "execution_count": 31,
   "id": "62f79913",
   "metadata": {},
   "outputs": [],
   "source": [
    "# 상품 설명 만들어주는 함수\n",
    "def product_description(prod_name, keywords):\n",
    "    '''\n",
    "    상품명과 키워드를 입력받아 Gemini AI를 통해 상품 설명을 생성\n",
    "    '''\n",
    "    # Gemini AI 모델 불러오기\n",
    "    model = genai.GenerativeModel(AI_MODEL_NAME)\n",
    "    \n",
    "    # 키워드 문자열을 (,)기준으로 나누고 공백 제거 하여 리스트에 추가\n",
    "    keywords_split = keywords.split(',')\n",
    "    keywords_list = []\n",
    "    for keyword in keywords_split :\n",
    "        keyword_strip = keyword.strip() # 불필요한 공백 제거\n",
    "        if keyword_strip: # 제거 후 유효한 키워드가 있는지\n",
    "            keywords_list.append(keyword_strip) \n",
    "    \n",
    "    prompt = f'''\n",
    "    숙련된 카피라이터 처럼 아래 상품 정보에 맞는 상품 설명을 매력적이게 작성해주세요.\n",
    "    \n",
    "    **상품명:** {prod_name}  # ** AI한테 강조하는 표현 **\n",
    "    **핵심 키워드:** {', '.join(keywords_list)}\n",
    "    \n",
    "    - 500자 이내로 작성해주세요.\n",
    "    - 과장광고 같지 않고 설명이 구매자 마음이 들게 작성해주세요.\n",
    "    - 친근하고 부드럽게 사람처럼 전문적인 느낌으로 작성해주세요.\n",
    "    '''\n",
    "    \n",
    "    try:\n",
    "        # AI 모델에게 질문 보내기\n",
    "        response = model.generate_content(prompt)\n",
    "        # 답변의 텍스트만 받아와서 공백제거 후 반환\n",
    "        return response.text.strip()\n",
    "    except Exception as e:\n",
    "        return f'연결 중 오류 발생 {e}'"
   ]
  },
  {
   "cell_type": "code",
   "execution_count": 32,
   "id": "716c0090",
   "metadata": {},
   "outputs": [
    {
     "name": "stdout",
     "output_type": "stream",
     "text": [
      "test1 상품 설명 결과\n",
      "상품명: 고양이 사료\n",
      "키워드: 건강, 신장, 치킨맛\n",
      "상품 설명 : 소중한 우리 냥이의 건강을 생각한다면, 더 이상 고민하지 마세요.  [상품명] 고양이 사료가 답입니다.  부드러운 치킨 맛에 숨겨진 특별한 비밀, 바로 냥이의 건강을 위한 섬세한 배려입니다.\n",
      "\n",
      "많은 냥이들이 겪는 신장 건강 문제.  [상품명]은  신장 건강에 도움이 되는 특별한 영양 성분을 함유하여,  사랑스러운 우리 냥이의 건강을 꼼꼼하게 챙겨줍니다.  단순히 맛있는 사료가 아니라,  건강을 책임지는  믿음직한 파트너가 되어 드릴 것을 약속드립니다.\n",
      "\n",
      "풍부한 치킨 맛은 까다로운 냥이들의 입맛까지 사로잡습니다.  질 좋은 신선한 닭고기를 사용하여  풍성한 맛과 향을 선사하며,  영양 균형까지 완벽하게 고려했습니다.  한 입 베어 무는 순간,  행복한 냥이의 표정을 보는 즐거움을 선물할 것입니다.\n",
      "\n",
      "[상품명]은 단순한 사료가 아닙니다.  오랜 연구와 노력으로 탄생한  믿을 수 있는 품질,  그리고 냥이를 향한 진심이 담겨 있습니다.  건강과 맛, 두 마리 토끼를 모두 잡고 싶으신가요?  지금 바로 [상품명]을 선택하세요.  여러분의 냥이가 건강하고 행복한 미소를 되찾아 줄 것입니다.  더 궁금한 점이 있다면 언제든 문의해주세요.  우리 냥이들의 건강을 위해 최선을 다하겠습니다.\n"
     ]
    }
   ],
   "source": [
    "# test1\n",
    "product_name_1 = '고양이 사료'\n",
    "keywords_1 = '건강, 신장, 치킨맛'\n",
    "\n",
    "test_1 = product_description(product_name_1, keywords_1)\n",
    "\n",
    "print('test1 상품 설명 결과')\n",
    "print(f'상품명: {product_name_1}')\n",
    "print(f'키워드: {keywords_1}')\n",
    "print(f'상품 설명 : {test_1}')"
   ]
  },
  {
   "cell_type": "code",
   "execution_count": 33,
   "id": "33607cbb",
   "metadata": {},
   "outputs": [
    {
     "name": "stdout",
     "output_type": "stream",
     "text": [
      "test2 상품 설명 결과\n",
      "상품명: 크록스\n",
      "키워드: 가벼움, 귀여움, 편안함\n",
      "상품 설명 : 발걸음이 가벼워지는 기분, 아시나요?  마치 구름 위를 걷는 듯한 가볍고 포근한 착화감, 바로 크록스에서 경험하실 수 있습니다.  \n",
      "\n",
      "평범한 일상에도 특별함을 더하고 싶으신가요?  귀여움과 편안함을 모두 갖춘 크록스는  오늘 당신의 발을 위한 최고의 선택입니다.  \n",
      "\n",
      "하루 종일 신고 있어도 지치지 않는 놀라운 가벼움은, 마치 신발을 신지 않은 듯 자유로운 움직임을 선사합니다.  부드러운 쿠셔닝은 발의 피로를 덜어주고,  오랫동안 활동적인 하루를 보내도 발에 무리가 가지 않도록 섬세하게 설계되었습니다.  \n",
      "\n",
      "단순히 신발이 아닌, 당신의 편안한 삶의 동반자.  크록스는 그 이상의 가치를 제공합니다.  귀여운 디자인은  어떤 스타일의 옷에도 잘 어울리며,  나만의 개성을 표현할 수 있는 다양한 컬러와 디자인을 선택할 수 있어 더욱 매력적입니다.\n",
      "\n",
      "바쁜 일상 속에서  잠시 숨을 고르고 싶을 때,  편안함과 귀여움으로 당신의 마음을 사로잡는 크록스를 신어보세요.  발걸음 하나하나에 행복이 깃들어 있음을 느끼실 겁니다.  지금 바로 크록스와 함께  가볍고 행복한 하루를 시작해보세요.  당신의 발이  감사할 겁니다.\n"
     ]
    }
   ],
   "source": [
    "# test _2\n",
    "product_name_2 = '크록스'\n",
    "keywords_2 = '가벼움, 귀여움, 편안함'\n",
    "\n",
    "test_2 = product_description(product_name_2, keywords_2)\n",
    "\n",
    "print('test2 상품 설명 결과')\n",
    "print(f'상품명: {product_name_2}')\n",
    "print(f'키워드: {keywords_2}')\n",
    "print(f'상품 설명 : {test_2}')"
   ]
  },
  {
   "cell_type": "code",
   "execution_count": 34,
   "id": "3cd946cb",
   "metadata": {},
   "outputs": [
    {
     "name": "stdout",
     "output_type": "stream",
     "text": [
      "test3 상품 설명 결과\n",
      "상품명: 멀티펜\n",
      "키워드: 4색, 샤프, 필기감, mm\n",
      "상품 설명 : 손안의 작은 사무실, 멀티펜 하나로 당신의 업무 효율을 높여보세요.\n",
      "\n",
      "지금 바로 소개할 4색 멀티펜은 단순한 필기구를 넘어, 당신의 일상에 편리함과 스타일을 더해줄 특별한 아이템입니다.  바쁜 하루 속에서 매번 펜을 바꿔 쥐는 번거로움 없이, 섬세한 0.5mm 샤프심과 세 가지 풍부한 색감의 볼펜 심을 한번에 만나보세요.  (색상은 실제 제품과 다소 차이가 있을 수 있습니다.)\n",
      "\n",
      "0.5mm 샤프는 정교한 필기는 물론, 스케치에도 부드럽게 써지는 뛰어난 필기감을 자랑합니다.  미끄러짐 없이 부드럽게 종이 위를 미끄러지는 샤프심은 깔끔하고 선명한 글씨를 완성해 줄 뿐만 아니라,  오랫동안 사용해도 손목에 부담을 덜어줍니다.  \n",
      "\n",
      "세 가지 볼펜 심은 각각의 색감이 선명하고 진하게 표현되어 중요한 부분을 강조하거나, 다채로운 노트 정리를 할 때 유용합니다.  회의록 작성, 디자인 작업, 일상적인 메모까지, 어떤 상황에서든 멀티펜 하나면 충분합니다.  마치 당신의 손길을 따라 부드럽게 춤추는 듯한 필기감은 한 번 경험하면 절대 잊을 수 없을 만큼 매력적입니다.\n",
      "\n",
      "\n",
      "넉넉한 잉크 용량으로 오랫동안 사용할 수 있으며,  손에 착 감기는 그립감은 장시간 사용에도 편안함을 선사합니다.  심플하고 세련된 디자인은 어떤 스타일의 필통에도 잘 어울리며,  가방 속에서 자리도 많이 차지하지 않아 휴대성 또한 뛰어납니다.\n",
      "\n",
      "더 이상 여러 개의 펜을 가지고 다닐 필요가 없습니다.  지금 바로 4색 멀티펜으로 업무 효율과 스타일을 동시에 높여보세요.  가볍고 편리한 당신의 필기 파트너가 되어줄 것입니다.\n"
     ]
    }
   ],
   "source": [
    "# test _3\n",
    "product_name_3 = '멀티펜'\n",
    "keywords_3 = '4색, 샤프, 필기감, mm'\n",
    "\n",
    "test_3 = product_description(product_name_3, keywords_3)\n",
    "\n",
    "print('test3 상품 설명 결과')\n",
    "print(f'상품명: {product_name_3}')\n",
    "print(f'키워드: {keywords_3}')\n",
    "print(f'상품 설명 : {test_3}')"
   ]
  },
  {
   "cell_type": "code",
   "execution_count": null,
   "id": "47c8598d",
   "metadata": {},
   "outputs": [],
   "source": []
  }
 ],
 "metadata": {
  "kernelspec": {
   "display_name": "Python 3 (ipykernel)",
   "language": "python",
   "name": "python3"
  },
  "language_info": {
   "codemirror_mode": {
    "name": "ipython",
    "version": 3
   },
   "file_extension": ".py",
   "mimetype": "text/x-python",
   "name": "python",
   "nbconvert_exporter": "python",
   "pygments_lexer": "ipython3",
   "version": "3.10.9"
  },
  "toc": {
   "base_numbering": 1,
   "nav_menu": {},
   "number_sections": true,
   "sideBar": true,
   "skip_h1_title": false,
   "title_cell": "Table of Contents",
   "title_sidebar": "Contents",
   "toc_cell": false,
   "toc_position": {},
   "toc_section_display": true,
   "toc_window_display": false
  }
 },
 "nbformat": 4,
 "nbformat_minor": 5
}
